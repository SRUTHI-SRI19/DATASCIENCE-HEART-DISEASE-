{
 "cells": [
  {
   "cell_type": "code",
   "execution_count": 34,
   "id": "3468ed13",
   "metadata": {
    "_cell_guid": "b1076dfc-b9ad-4769-8c92-a6c4dae69d19",
    "_uuid": "8f2839f25d086af736a60e9eeb907d3b93b6e0e5",
    "execution": {
     "iopub.execute_input": "2022-04-29T15:33:40.732428Z",
     "iopub.status.busy": "2022-04-29T15:33:40.730620Z",
     "iopub.status.idle": "2022-04-29T15:33:40.747432Z",
     "shell.execute_reply": "2022-04-29T15:33:40.748062Z",
     "shell.execute_reply.started": "2022-04-29T14:52:59.944249Z"
    },
    "papermill": {
     "duration": 0.049706,
     "end_time": "2022-04-29T15:33:40.748465",
     "exception": false,
     "start_time": "2022-04-29T15:33:40.698759",
     "status": "completed"
    },
    "tags": []
   },
   "outputs": [],
   "source": [
    "import numpy as np # linear algebra\n",
    "import pandas as pd # data processing, CSV file I/O (e.g. pd.read_csv)"
   ]
  },
  {
   "cell_type": "code",
   "execution_count": 35,
   "id": "3119d885",
   "metadata": {
    "execution": {
     "iopub.execute_input": "2022-04-29T15:33:40.805477Z",
     "iopub.status.busy": "2022-04-29T15:33:40.804838Z",
     "iopub.status.idle": "2022-04-29T15:33:40.807906Z",
     "shell.execute_reply": "2022-04-29T15:33:40.808501Z",
     "shell.execute_reply.started": "2022-04-29T14:52:59.995416Z"
    },
    "papermill": {
     "duration": 0.032657,
     "end_time": "2022-04-29T15:33:40.808671",
     "exception": false,
     "start_time": "2022-04-29T15:33:40.776014",
     "status": "completed"
    },
    "tags": []
   },
   "outputs": [],
   "source": [
    "import pandas as pd\n",
    "import numpy as np\n",
    "import matplotlib.pyplot as plt"
   ]
  },
  {
   "cell_type": "code",
   "execution_count": 36,
   "id": "ae1299f5",
   "metadata": {
    "execution": {
     "iopub.execute_input": "2022-04-29T15:33:40.864575Z",
     "iopub.status.busy": "2022-04-29T15:33:40.863946Z",
     "iopub.status.idle": "2022-04-29T15:33:40.897791Z",
     "shell.execute_reply": "2022-04-29T15:33:40.898356Z",
     "shell.execute_reply.started": "2022-04-29T14:53:00.001815Z"
    },
    "papermill": {
     "duration": 0.064239,
     "end_time": "2022-04-29T15:33:40.898517",
     "exception": false,
     "start_time": "2022-04-29T15:33:40.834278",
     "status": "completed"
    },
    "tags": []
   },
   "outputs": [
    {
     "data": {
      "text/html": [
       "<div>\n",
       "<style scoped>\n",
       "    .dataframe tbody tr th:only-of-type {\n",
       "        vertical-align: middle;\n",
       "    }\n",
       "\n",
       "    .dataframe tbody tr th {\n",
       "        vertical-align: top;\n",
       "    }\n",
       "\n",
       "    .dataframe thead th {\n",
       "        text-align: right;\n",
       "    }\n",
       "</style>\n",
       "<table border=\"1\" class=\"dataframe\">\n",
       "  <thead>\n",
       "    <tr style=\"text-align: right;\">\n",
       "      <th></th>\n",
       "      <th>Age</th>\n",
       "      <th>Sex</th>\n",
       "      <th>ChestPainType</th>\n",
       "      <th>RestingBP</th>\n",
       "      <th>Cholesterol</th>\n",
       "      <th>FastingBS</th>\n",
       "      <th>RestingECG</th>\n",
       "      <th>MaxHR</th>\n",
       "      <th>ExerciseAngina</th>\n",
       "      <th>Oldpeak</th>\n",
       "      <th>ST_Slope</th>\n",
       "      <th>HeartDisease</th>\n",
       "    </tr>\n",
       "  </thead>\n",
       "  <tbody>\n",
       "    <tr>\n",
       "      <th>0</th>\n",
       "      <td>40</td>\n",
       "      <td>M</td>\n",
       "      <td>ATA</td>\n",
       "      <td>140</td>\n",
       "      <td>289</td>\n",
       "      <td>0</td>\n",
       "      <td>Normal</td>\n",
       "      <td>172</td>\n",
       "      <td>N</td>\n",
       "      <td>0.0</td>\n",
       "      <td>Up</td>\n",
       "      <td>0</td>\n",
       "    </tr>\n",
       "    <tr>\n",
       "      <th>1</th>\n",
       "      <td>49</td>\n",
       "      <td>F</td>\n",
       "      <td>NAP</td>\n",
       "      <td>160</td>\n",
       "      <td>180</td>\n",
       "      <td>0</td>\n",
       "      <td>Normal</td>\n",
       "      <td>156</td>\n",
       "      <td>N</td>\n",
       "      <td>1.0</td>\n",
       "      <td>Flat</td>\n",
       "      <td>1</td>\n",
       "    </tr>\n",
       "    <tr>\n",
       "      <th>2</th>\n",
       "      <td>37</td>\n",
       "      <td>M</td>\n",
       "      <td>ATA</td>\n",
       "      <td>130</td>\n",
       "      <td>283</td>\n",
       "      <td>0</td>\n",
       "      <td>ST</td>\n",
       "      <td>98</td>\n",
       "      <td>N</td>\n",
       "      <td>0.0</td>\n",
       "      <td>Up</td>\n",
       "      <td>0</td>\n",
       "    </tr>\n",
       "    <tr>\n",
       "      <th>3</th>\n",
       "      <td>48</td>\n",
       "      <td>F</td>\n",
       "      <td>ASY</td>\n",
       "      <td>138</td>\n",
       "      <td>214</td>\n",
       "      <td>0</td>\n",
       "      <td>Normal</td>\n",
       "      <td>108</td>\n",
       "      <td>Y</td>\n",
       "      <td>1.5</td>\n",
       "      <td>Flat</td>\n",
       "      <td>1</td>\n",
       "    </tr>\n",
       "    <tr>\n",
       "      <th>4</th>\n",
       "      <td>54</td>\n",
       "      <td>M</td>\n",
       "      <td>NAP</td>\n",
       "      <td>150</td>\n",
       "      <td>195</td>\n",
       "      <td>0</td>\n",
       "      <td>Normal</td>\n",
       "      <td>122</td>\n",
       "      <td>N</td>\n",
       "      <td>0.0</td>\n",
       "      <td>Up</td>\n",
       "      <td>0</td>\n",
       "    </tr>\n",
       "  </tbody>\n",
       "</table>\n",
       "</div>"
      ],
      "text/plain": [
       "   Age Sex ChestPainType  RestingBP  Cholesterol  FastingBS RestingECG  MaxHR  \\\n",
       "0   40   M           ATA        140          289          0     Normal    172   \n",
       "1   49   F           NAP        160          180          0     Normal    156   \n",
       "2   37   M           ATA        130          283          0         ST     98   \n",
       "3   48   F           ASY        138          214          0     Normal    108   \n",
       "4   54   M           NAP        150          195          0     Normal    122   \n",
       "\n",
       "  ExerciseAngina  Oldpeak ST_Slope  HeartDisease  \n",
       "0              N      0.0       Up             0  \n",
       "1              N      1.0     Flat             1  \n",
       "2              N      0.0       Up             0  \n",
       "3              Y      1.5     Flat             1  \n",
       "4              N      0.0       Up             0  "
      ]
     },
     "execution_count": 36,
     "metadata": {},
     "output_type": "execute_result"
    }
   ],
   "source": [
    "datos = pd.read_csv('heart.csv')\n",
    "df = pd.DataFrame(datos)\n",
    "df.head()"
   ]
  },
  {
   "cell_type": "code",
   "execution_count": 37,
   "id": "4baf1165",
   "metadata": {
    "execution": {
     "iopub.execute_input": "2022-04-29T15:33:40.953857Z",
     "iopub.status.busy": "2022-04-29T15:33:40.953259Z",
     "iopub.status.idle": "2022-04-29T15:33:40.977952Z",
     "shell.execute_reply": "2022-04-29T15:33:40.978475Z",
     "shell.execute_reply.started": "2022-04-29T14:53:00.051798Z"
    },
    "papermill": {
     "duration": 0.054137,
     "end_time": "2022-04-29T15:33:40.978646",
     "exception": false,
     "start_time": "2022-04-29T15:33:40.924509",
     "status": "completed"
    },
    "tags": []
   },
   "outputs": [],
   "source": [
    "count_series = df.groupby(['Sex', 'HeartDisease']).size()\n",
    "dfSex = count_series.to_frame(name = 'size').reset_index()\n",
    "count_series = df.groupby(['ChestPainType', 'HeartDisease']).size()\n",
    "dfCPT = count_series.to_frame(name = 'size').reset_index()\n",
    "count_series = df.groupby(['RestingECG', 'HeartDisease']).size()\n",
    "dfRes = count_series.to_frame(name = 'size').reset_index()\n",
    "count_series = df.groupby(['ExerciseAngina', 'HeartDisease']).size()\n",
    "dfea = count_series.to_frame(name = 'size').reset_index()\n",
    "count_series = df.groupby(['ST_Slope', 'HeartDisease']).size()\n",
    "dfSlope = count_series.to_frame(name = 'size').reset_index()"
   ]
  },
  {
   "cell_type": "code",
   "execution_count": 38,
   "id": "d1d46bd4",
   "metadata": {
    "execution": {
     "iopub.execute_input": "2022-04-29T15:33:41.034631Z",
     "iopub.status.busy": "2022-04-29T15:33:41.034030Z",
     "iopub.status.idle": "2022-04-29T15:33:42.270551Z",
     "shell.execute_reply": "2022-04-29T15:33:42.269746Z",
     "shell.execute_reply.started": "2022-04-29T14:53:00.082684Z"
    },
    "papermill": {
     "duration": 1.26493,
     "end_time": "2022-04-29T15:33:42.270700",
     "exception": false,
     "start_time": "2022-04-29T15:33:41.005770",
     "status": "completed"
    },
    "tags": []
   },
   "outputs": [
    {
     "data": {
      "text/plain": [
       "<AxesSubplot:xlabel='Sex', ylabel='size'>"
      ]
     },
     "execution_count": 38,
     "metadata": {},
     "output_type": "execute_result"
    },
    {
     "data": {
      "image/png": "[encoded data removed]",
      "text/plain": [
       "<Figure size 432x288 with 1 Axes>"
      ]
     },
     "metadata": {
      "needs_background": "light"
     },
     "output_type": "display_data"
    }
   ],
   "source": [
    "import seaborn as sns\n",
    "sns.barplot(data=dfSex, x=\"Sex\", y=\"size\", hue=\"HeartDisease\")"
   ]
  },
  {
   "cell_type": "code",
   "execution_count": 39,
   "id": "068c83d6",
   "metadata": {
    "execution": {
     "iopub.execute_input": "2022-04-29T15:33:42.328900Z",
     "iopub.status.busy": "2022-04-29T15:33:42.327946Z",
     "iopub.status.idle": "2022-04-29T15:33:42.516049Z",
     "shell.execute_reply": "2022-04-29T15:33:42.516603Z",
     "shell.execute_reply.started": "2022-04-29T14:53:01.379793Z"
    },
    "papermill": {
     "duration": 0.219158,
     "end_time": "2022-04-29T15:33:42.516783",
     "exception": false,
     "start_time": "2022-04-29T15:33:42.297625",
     "status": "completed"
    },
    "tags": []
   },
   "outputs": [
    {
     "data": {
      "text/plain": [
       "<AxesSubplot:xlabel='ChestPainType', ylabel='size'>"
      ]
     },
     "execution_count": 39,
     "metadata": {},
     "output_type": "execute_result"
    },
    {
     "data": {
      "image/png": "[encoded data removed]",
      "text/plain": [
       "<Figure size 432x288 with 1 Axes>"
      ]
     },
     "metadata": {
      "needs_background": "light"
     },
     "output_type": "display_data"
    }
   ],
   "source": [
    "sns.barplot(data=dfCPT, x=\"ChestPainType\", y=\"size\", hue=\"HeartDisease\")"
   ]
  },
  {
   "cell_type": "code",
   "execution_count": 40,
   "id": "4400db9d",
   "metadata": {
    "execution": {
     "iopub.execute_input": "2022-04-29T15:33:42.580747Z",
     "iopub.status.busy": "2022-04-29T15:33:42.579706Z",
     "iopub.status.idle": "2022-04-29T15:33:42.739238Z",
     "shell.execute_reply": "2022-04-29T15:33:42.739666Z",
     "shell.execute_reply.started": "2022-04-29T14:53:01.592123Z"
    },
    "papermill": {
     "duration": 0.195202,
     "end_time": "2022-04-29T15:33:42.739833",
     "exception": false,
     "start_time": "2022-04-29T15:33:42.544631",
     "status": "completed"
    },
    "tags": []
   },
   "outputs": [
    {
     "data": {
      "text/plain": [
       "<AxesSubplot:xlabel='RestingECG', ylabel='size'>"
      ]
     },
     "execution_count": 40,
     "metadata": {},
     "output_type": "execute_result"
    },
    {
     "data": {
      "image/png": "[encoded data removed]",
      "text/plain": [
       "<Figure size 432x288 with 1 Axes>"
      ]
     },
     "metadata": {
      "needs_background": "light"
     },
     "output_type": "display_data"
    }
   ],
   "source": [
    "sns.barplot(data=dfRes, x=\"RestingECG\", y=\"size\", hue=\"HeartDisease\")"
   ]
  },
  {
   "cell_type": "code",
   "execution_count": 41,
   "id": "3a28655f",
   "metadata": {
    "execution": {
     "iopub.execute_input": "2022-04-29T15:33:42.801138Z",
     "iopub.status.busy": "2022-04-29T15:33:42.800198Z",
     "iopub.status.idle": "2022-04-29T15:33:42.975169Z",
     "shell.execute_reply": "2022-04-29T15:33:42.974626Z",
     "shell.execute_reply.started": "2022-04-29T14:53:01.776702Z"
    },
    "papermill": {
     "duration": 0.206828,
     "end_time": "2022-04-29T15:33:42.975333",
     "exception": false,
     "start_time": "2022-04-29T15:33:42.768505",
     "status": "completed"
    },
    "tags": []
   },
   "outputs": [
    {
     "data": {
      "text/plain": [
       "<AxesSubplot:xlabel='ExerciseAngina', ylabel='size'>"
      ]
     },
     "execution_count": 41,
     "metadata": {},
     "output_type": "execute_result"
    },
    {
     "data": {
      "image/png": "[encoded data removed]",
      "text/plain": [
       "<Figure size 432x288 with 1 Axes>"
      ]
     },
     "metadata": {
      "needs_background": "light"
     },
     "output_type": "display_data"
    }
   ],
   "source": [
    "sns.barplot(data=dfea, x=\"ExerciseAngina\", y=\"size\", hue=\"HeartDisease\")"
   ]
  },
  {
   "cell_type": "code",
   "execution_count": 42,
   "id": "31e3a095",
   "metadata": {
    "execution": {
     "iopub.execute_input": "2022-04-29T15:33:43.039180Z",
     "iopub.status.busy": "2022-04-29T15:33:43.038484Z",
     "iopub.status.idle": "2022-04-29T15:33:43.217027Z",
     "shell.execute_reply": "2022-04-29T15:33:43.216489Z",
     "shell.execute_reply.started": "2022-04-29T14:53:01.947916Z"
    },
    "papermill": {
     "duration": 0.211764,
     "end_time": "2022-04-29T15:33:43.217175",
     "exception": false,
     "start_time": "2022-04-29T15:33:43.005411",
     "status": "completed"
    },
    "tags": []
   },
   "outputs": [
    {
     "data": {
      "text/plain": [
       "<AxesSubplot:xlabel='ST_Slope', ylabel='size'>"
      ]
     },
     "execution_count": 42,
     "metadata": {},
     "output_type": "execute_result"
    },
    {
     "data": {
      "image/png": "[encoded data removed]",
      "text/plain": [
       "<Figure size 432x288 with 1 Axes>"
      ]
     },
     "metadata": {
      "needs_background": "light"
     },
     "output_type": "display_data"
    }
   ],
   "source": [
    "sns.barplot(data=dfSlope, x=\"ST_Slope\", y=\"size\", hue=\"HeartDisease\")"
   ]
  },
  {
   "cell_type": "markdown",
   "id": "4a62f51e",
   "metadata": {
    "papermill": {
     "duration": 0.029768,
     "end_time": "2022-04-29T15:33:43.277719",
     "exception": false,
     "start_time": "2022-04-29T15:33:43.247951",
     "status": "completed"
    },
    "tags": []
   },
   "source": [
    "- change a Sex column values for number. M = 1, F = 0."
   ]
  },
  {
   "cell_type": "code",
   "execution_count": 43,
   "id": "a1da5cab",
   "metadata": {
    "execution": {
     "iopub.execute_input": "2022-04-29T15:33:43.417194Z",
     "iopub.status.busy": "2022-04-29T15:33:43.416364Z",
     "iopub.status.idle": "2022-04-29T15:33:43.420353Z",
     "shell.execute_reply": "2022-04-29T15:33:43.419842Z",
     "shell.execute_reply.started": "2022-04-29T14:53:02.147547Z"
    },
    "papermill": {
     "duration": 0.05077,
     "end_time": "2022-04-29T15:33:43.420494",
     "exception": false,
     "start_time": "2022-04-29T15:33:43.369724",
     "status": "completed"
    },
    "tags": []
   },
   "outputs": [
    {
     "data": {
      "text/html": [
       "<div>\n",
       "<style scoped>\n",
       "    .dataframe tbody tr th:only-of-type {\n",
       "        vertical-align: middle;\n",
       "    }\n",
       "\n",
       "    .dataframe tbody tr th {\n",
       "        vertical-align: top;\n",
       "    }\n",
       "\n",
       "    .dataframe thead th {\n",
       "        text-align: right;\n",
       "    }\n",
       "</style>\n",
       "<table border=\"1\" class=\"dataframe\">\n",
       "  <thead>\n",
       "    <tr style=\"text-align: right;\">\n",
       "      <th></th>\n",
       "      <th>Age</th>\n",
       "      <th>Sex</th>\n",
       "      <th>ChestPainType</th>\n",
       "      <th>RestingBP</th>\n",
       "      <th>Cholesterol</th>\n",
       "      <th>FastingBS</th>\n",
       "      <th>RestingECG</th>\n",
       "      <th>MaxHR</th>\n",
       "      <th>ExerciseAngina</th>\n",
       "      <th>Oldpeak</th>\n",
       "      <th>ST_Slope</th>\n",
       "      <th>HeartDisease</th>\n",
       "    </tr>\n",
       "  </thead>\n",
       "  <tbody>\n",
       "    <tr>\n",
       "      <th>0</th>\n",
       "      <td>40</td>\n",
       "      <td>1</td>\n",
       "      <td>ATA</td>\n",
       "      <td>140</td>\n",
       "      <td>289</td>\n",
       "      <td>0</td>\n",
       "      <td>Normal</td>\n",
       "      <td>172</td>\n",
       "      <td>N</td>\n",
       "      <td>0.0</td>\n",
       "      <td>Up</td>\n",
       "      <td>0</td>\n",
       "    </tr>\n",
       "    <tr>\n",
       "      <th>1</th>\n",
       "      <td>49</td>\n",
       "      <td>0</td>\n",
       "      <td>NAP</td>\n",
       "      <td>160</td>\n",
       "      <td>180</td>\n",
       "      <td>0</td>\n",
       "      <td>Normal</td>\n",
       "      <td>156</td>\n",
       "      <td>N</td>\n",
       "      <td>1.0</td>\n",
       "      <td>Flat</td>\n",
       "      <td>1</td>\n",
       "    </tr>\n",
       "    <tr>\n",
       "      <th>2</th>\n",
       "      <td>37</td>\n",
       "      <td>1</td>\n",
       "      <td>ATA</td>\n",
       "      <td>130</td>\n",
       "      <td>283</td>\n",
       "      <td>0</td>\n",
       "      <td>ST</td>\n",
       "      <td>98</td>\n",
       "      <td>N</td>\n",
       "      <td>0.0</td>\n",
       "      <td>Up</td>\n",
       "      <td>0</td>\n",
       "    </tr>\n",
       "    <tr>\n",
       "      <th>3</th>\n",
       "      <td>48</td>\n",
       "      <td>0</td>\n",
       "      <td>ASY</td>\n",
       "      <td>138</td>\n",
       "      <td>214</td>\n",
       "      <td>0</td>\n",
       "      <td>Normal</td>\n",
       "      <td>108</td>\n",
       "      <td>Y</td>\n",
       "      <td>1.5</td>\n",
       "      <td>Flat</td>\n",
       "      <td>1</td>\n",
       "    </tr>\n",
       "    <tr>\n",
       "      <th>4</th>\n",
       "      <td>54</td>\n",
       "      <td>1</td>\n",
       "      <td>NAP</td>\n",
       "      <td>150</td>\n",
       "      <td>195</td>\n",
       "      <td>0</td>\n",
       "      <td>Normal</td>\n",
       "      <td>122</td>\n",
       "      <td>N</td>\n",
       "      <td>0.0</td>\n",
       "      <td>Up</td>\n",
       "      <td>0</td>\n",
       "    </tr>\n",
       "  </tbody>\n",
       "</table>\n",
       "</div>"
      ],
      "text/plain": [
       "   Age  Sex ChestPainType  RestingBP  Cholesterol  FastingBS RestingECG  \\\n",
       "0   40    1           ATA        140          289          0     Normal   \n",
       "1   49    0           NAP        160          180          0     Normal   \n",
       "2   37    1           ATA        130          283          0         ST   \n",
       "3   48    0           ASY        138          214          0     Normal   \n",
       "4   54    1           NAP        150          195          0     Normal   \n",
       "\n",
       "   MaxHR ExerciseAngina  Oldpeak ST_Slope  HeartDisease  \n",
       "0    172              N      0.0       Up             0  \n",
       "1    156              N      1.0     Flat             1  \n",
       "2     98              N      0.0       Up             0  \n",
       "3    108              Y      1.5     Flat             1  \n",
       "4    122              N      0.0       Up             0  "
      ]
     },
     "execution_count": 43,
     "metadata": {},
     "output_type": "execute_result"
    }
   ],
   "source": [
    "df['Sex'].replace({'F':0,'M':1},inplace=True)\n",
    "df.head(5)"
   ]
  },
  {
   "cell_type": "markdown",
   "id": "74600f64",
   "metadata": {
    "papermill": {
     "duration": 0.031438,
     "end_time": "2022-04-29T15:33:43.482788",
     "exception": false,
     "start_time": "2022-04-29T15:33:43.451350",
     "status": "completed"
    },
    "tags": []
   },
   "source": [
    "- Change a ChestPainType column values for number. ASY= 1, ATA= 2, NAP=3, TA=4."
   ]
  },
  {
   "cell_type": "code",
   "execution_count": 44,
   "id": "83809d8a",
   "metadata": {
    "execution": {
     "iopub.execute_input": "2022-04-29T15:33:43.547454Z",
     "iopub.status.busy": "2022-04-29T15:33:43.546822Z",
     "iopub.status.idle": "2022-04-29T15:33:43.560653Z",
     "shell.execute_reply": "2022-04-29T15:33:43.561159Z",
     "shell.execute_reply.started": "2022-04-29T14:53:02.169605Z"
    },
    "papermill": {
     "duration": 0.047717,
     "end_time": "2022-04-29T15:33:43.561338",
     "exception": false,
     "start_time": "2022-04-29T15:33:43.513621",
     "status": "completed"
    },
    "tags": []
   },
   "outputs": [
    {
     "data": {
      "text/html": [
       "<div>\n",
       "<style scoped>\n",
       "    .dataframe tbody tr th:only-of-type {\n",
       "        vertical-align: middle;\n",
       "    }\n",
       "\n",
       "    .dataframe tbody tr th {\n",
       "        vertical-align: top;\n",
       "    }\n",
       "\n",
       "    .dataframe thead th {\n",
       "        text-align: right;\n",
       "    }\n",
       "</style>\n",
       "<table border=\"1\" class=\"dataframe\">\n",
       "  <thead>\n",
       "    <tr style=\"text-align: right;\">\n",
       "      <th></th>\n",
       "      <th>Age</th>\n",
       "      <th>Sex</th>\n",
       "      <th>ChestPainType</th>\n",
       "      <th>RestingBP</th>\n",
       "      <th>Cholesterol</th>\n",
       "      <th>FastingBS</th>\n",
       "      <th>RestingECG</th>\n",
       "      <th>MaxHR</th>\n",
       "      <th>ExerciseAngina</th>\n",
       "      <th>Oldpeak</th>\n",
       "      <th>ST_Slope</th>\n",
       "      <th>HeartDisease</th>\n",
       "    </tr>\n",
       "  </thead>\n",
       "  <tbody>\n",
       "    <tr>\n",
       "      <th>0</th>\n",
       "      <td>40</td>\n",
       "      <td>1</td>\n",
       "      <td>2</td>\n",
       "      <td>140</td>\n",
       "      <td>289</td>\n",
       "      <td>0</td>\n",
       "      <td>Normal</td>\n",
       "      <td>172</td>\n",
       "      <td>N</td>\n",
       "      <td>0.0</td>\n",
       "      <td>Up</td>\n",
       "      <td>0</td>\n",
       "    </tr>\n",
       "    <tr>\n",
       "      <th>1</th>\n",
       "      <td>49</td>\n",
       "      <td>0</td>\n",
       "      <td>3</td>\n",
       "      <td>160</td>\n",
       "      <td>180</td>\n",
       "      <td>0</td>\n",
       "      <td>Normal</td>\n",
       "      <td>156</td>\n",
       "      <td>N</td>\n",
       "      <td>1.0</td>\n",
       "      <td>Flat</td>\n",
       "      <td>1</td>\n",
       "    </tr>\n",
       "    <tr>\n",
       "      <th>2</th>\n",
       "      <td>37</td>\n",
       "      <td>1</td>\n",
       "      <td>2</td>\n",
       "      <td>130</td>\n",
       "      <td>283</td>\n",
       "      <td>0</td>\n",
       "      <td>ST</td>\n",
       "      <td>98</td>\n",
       "      <td>N</td>\n",
       "      <td>0.0</td>\n",
       "      <td>Up</td>\n",
       "      <td>0</td>\n",
       "    </tr>\n",
       "    <tr>\n",
       "      <th>3</th>\n",
       "      <td>48</td>\n",
       "      <td>0</td>\n",
       "      <td>1</td>\n",
       "      <td>138</td>\n",
       "      <td>214</td>\n",
       "      <td>0</td>\n",
       "      <td>Normal</td>\n",
       "      <td>108</td>\n",
       "      <td>Y</td>\n",
       "      <td>1.5</td>\n",
       "      <td>Flat</td>\n",
       "      <td>1</td>\n",
       "    </tr>\n",
       "    <tr>\n",
       "      <th>4</th>\n",
       "      <td>54</td>\n",
       "      <td>1</td>\n",
       "      <td>3</td>\n",
       "      <td>150</td>\n",
       "      <td>195</td>\n",
       "      <td>0</td>\n",
       "      <td>Normal</td>\n",
       "      <td>122</td>\n",
       "      <td>N</td>\n",
       "      <td>0.0</td>\n",
       "      <td>Up</td>\n",
       "      <td>0</td>\n",
       "    </tr>\n",
       "  </tbody>\n",
       "</table>\n",
       "</div>"
      ],
      "text/plain": [
       "   Age  Sex  ChestPainType  RestingBP  Cholesterol  FastingBS RestingECG  \\\n",
       "0   40    1              2        140          289          0     Normal   \n",
       "1   49    0              3        160          180          0     Normal   \n",
       "2   37    1              2        130          283          0         ST   \n",
       "3   48    0              1        138          214          0     Normal   \n",
       "4   54    1              3        150          195          0     Normal   \n",
       "\n",
       "   MaxHR ExerciseAngina  Oldpeak ST_Slope  HeartDisease  \n",
       "0    172              N      0.0       Up             0  \n",
       "1    156              N      1.0     Flat             1  \n",
       "2     98              N      0.0       Up             0  \n",
       "3    108              Y      1.5     Flat             1  \n",
       "4    122              N      0.0       Up             0  "
      ]
     },
     "execution_count": 44,
     "metadata": {},
     "output_type": "execute_result"
    }
   ],
   "source": [
    "df['ChestPainType'].replace({'ASY':1,'ATA':2,'NAP':3,'TA':4},inplace=True)\n",
    "df.head(5)"
   ]
  },
  {
   "cell_type": "markdown",
   "id": "4fd77e42",
   "metadata": {
    "papermill": {
     "duration": 0.031087,
     "end_time": "2022-04-29T15:33:43.623925",
     "exception": false,
     "start_time": "2022-04-29T15:33:43.592838",
     "status": "completed"
    },
    "tags": []
   },
   "source": [
    "- Change a RestingECG column values for number. LVH= 1, Normal= 2, ST=3."
   ]
  },
  {
   "cell_type": "code",
   "execution_count": 45,
   "id": "d18633be",
   "metadata": {
    "execution": {
     "iopub.execute_input": "2022-04-29T15:33:43.688778Z",
     "iopub.status.busy": "2022-04-29T15:33:43.688164Z",
     "iopub.status.idle": "2022-04-29T15:33:43.701494Z",
     "shell.execute_reply": "2022-04-29T15:33:43.701940Z",
     "shell.execute_reply.started": "2022-04-29T14:53:02.197733Z"
    },
    "papermill": {
     "duration": 0.047408,
     "end_time": "2022-04-29T15:33:43.702120",
     "exception": false,
     "start_time": "2022-04-29T15:33:43.654712",
     "status": "completed"
    },
    "tags": []
   },
   "outputs": [
    {
     "data": {
      "text/html": [
       "<div>\n",
       "<style scoped>\n",
       "    .dataframe tbody tr th:only-of-type {\n",
       "        vertical-align: middle;\n",
       "    }\n",
       "\n",
       "    .dataframe tbody tr th {\n",
       "        vertical-align: top;\n",
       "    }\n",
       "\n",
       "    .dataframe thead th {\n",
       "        text-align: right;\n",
       "    }\n",
       "</style>\n",
       "<table border=\"1\" class=\"dataframe\">\n",
       "  <thead>\n",
       "    <tr style=\"text-align: right;\">\n",
       "      <th></th>\n",
       "      <th>Age</th>\n",
       "      <th>Sex</th>\n",
       "      <th>ChestPainType</th>\n",
       "      <th>RestingBP</th>\n",
       "      <th>Cholesterol</th>\n",
       "      <th>FastingBS</th>\n",
       "      <th>RestingECG</th>\n",
       "      <th>MaxHR</th>\n",
       "      <th>ExerciseAngina</th>\n",
       "      <th>Oldpeak</th>\n",
       "      <th>ST_Slope</th>\n",
       "      <th>HeartDisease</th>\n",
       "    </tr>\n",
       "  </thead>\n",
       "  <tbody>\n",
       "    <tr>\n",
       "      <th>0</th>\n",
       "      <td>40</td>\n",
       "      <td>1</td>\n",
       "      <td>2</td>\n",
       "      <td>140</td>\n",
       "      <td>289</td>\n",
       "      <td>0</td>\n",
       "      <td>2</td>\n",
       "      <td>172</td>\n",
       "      <td>N</td>\n",
       "      <td>0.0</td>\n",
       "      <td>Up</td>\n",
       "      <td>0</td>\n",
       "    </tr>\n",
       "    <tr>\n",
       "      <th>1</th>\n",
       "      <td>49</td>\n",
       "      <td>0</td>\n",
       "      <td>3</td>\n",
       "      <td>160</td>\n",
       "      <td>180</td>\n",
       "      <td>0</td>\n",
       "      <td>2</td>\n",
       "      <td>156</td>\n",
       "      <td>N</td>\n",
       "      <td>1.0</td>\n",
       "      <td>Flat</td>\n",
       "      <td>1</td>\n",
       "    </tr>\n",
       "    <tr>\n",
       "      <th>2</th>\n",
       "      <td>37</td>\n",
       "      <td>1</td>\n",
       "      <td>2</td>\n",
       "      <td>130</td>\n",
       "      <td>283</td>\n",
       "      <td>0</td>\n",
       "      <td>3</td>\n",
       "      <td>98</td>\n",
       "      <td>N</td>\n",
       "      <td>0.0</td>\n",
       "      <td>Up</td>\n",
       "      <td>0</td>\n",
       "    </tr>\n",
       "    <tr>\n",
       "      <th>3</th>\n",
       "      <td>48</td>\n",
       "      <td>0</td>\n",
       "      <td>1</td>\n",
       "      <td>138</td>\n",
       "      <td>214</td>\n",
       "      <td>0</td>\n",
       "      <td>2</td>\n",
       "      <td>108</td>\n",
       "      <td>Y</td>\n",
       "      <td>1.5</td>\n",
       "      <td>Flat</td>\n",
       "      <td>1</td>\n",
       "    </tr>\n",
       "    <tr>\n",
       "      <th>4</th>\n",
       "      <td>54</td>\n",
       "      <td>1</td>\n",
       "      <td>3</td>\n",
       "      <td>150</td>\n",
       "      <td>195</td>\n",
       "      <td>0</td>\n",
       "      <td>2</td>\n",
       "      <td>122</td>\n",
       "      <td>N</td>\n",
       "      <td>0.0</td>\n",
       "      <td>Up</td>\n",
       "      <td>0</td>\n",
       "    </tr>\n",
       "  </tbody>\n",
       "</table>\n",
       "</div>"
      ],
      "text/plain": [
       "   Age  Sex  ChestPainType  RestingBP  Cholesterol  FastingBS  RestingECG  \\\n",
       "0   40    1              2        140          289          0           2   \n",
       "1   49    0              3        160          180          0           2   \n",
       "2   37    1              2        130          283          0           3   \n",
       "3   48    0              1        138          214          0           2   \n",
       "4   54    1              3        150          195          0           2   \n",
       "\n",
       "   MaxHR ExerciseAngina  Oldpeak ST_Slope  HeartDisease  \n",
       "0    172              N      0.0       Up             0  \n",
       "1    156              N      1.0     Flat             1  \n",
       "2     98              N      0.0       Up             0  \n",
       "3    108              Y      1.5     Flat             1  \n",
       "4    122              N      0.0       Up             0  "
      ]
     },
     "execution_count": 45,
     "metadata": {},
     "output_type": "execute_result"
    }
   ],
   "source": [
    "df['RestingECG'].replace({'LVH':1,'Normal':2,'ST':3},inplace=True)\n",
    "df.head(5)"
   ]
  },
  {
   "cell_type": "markdown",
   "id": "fbecf0db",
   "metadata": {
    "papermill": {
     "duration": 0.030969,
     "end_time": "2022-04-29T15:33:43.826415",
     "exception": false,
     "start_time": "2022-04-29T15:33:43.795446",
     "status": "completed"
    },
    "tags": []
   },
   "source": [
    "- Change a ExerciseAngina column values for number. N= 0, Y= 1."
   ]
  },
  {
   "cell_type": "code",
   "execution_count": 46,
   "id": "152c6669",
   "metadata": {
    "execution": {
     "iopub.execute_input": "2022-04-29T15:33:43.891877Z",
     "iopub.status.busy": "2022-04-29T15:33:43.891257Z",
     "iopub.status.idle": "2022-04-29T15:33:43.904335Z",
     "shell.execute_reply": "2022-04-29T15:33:43.904804Z",
     "shell.execute_reply.started": "2022-04-29T14:53:02.226188Z"
    },
    "papermill": {
     "duration": 0.047315,
     "end_time": "2022-04-29T15:33:43.904964",
     "exception": false,
     "start_time": "2022-04-29T15:33:43.857649",
     "status": "completed"
    },
    "tags": []
   },
   "outputs": [
    {
     "data": {
      "text/html": [
       "<div>\n",
       "<style scoped>\n",
       "    .dataframe tbody tr th:only-of-type {\n",
       "        vertical-align: middle;\n",
       "    }\n",
       "\n",
       "    .dataframe tbody tr th {\n",
       "        vertical-align: top;\n",
       "    }\n",
       "\n",
       "    .dataframe thead th {\n",
       "        text-align: right;\n",
       "    }\n",
       "</style>\n",
       "<table border=\"1\" class=\"dataframe\">\n",
       "  <thead>\n",
       "    <tr style=\"text-align: right;\">\n",
       "      <th></th>\n",
       "      <th>Age</th>\n",
       "      <th>Sex</th>\n",
       "      <th>ChestPainType</th>\n",
       "      <th>RestingBP</th>\n",
       "      <th>Cholesterol</th>\n",
       "      <th>FastingBS</th>\n",
       "      <th>RestingECG</th>\n",
       "      <th>MaxHR</th>\n",
       "      <th>ExerciseAngina</th>\n",
       "      <th>Oldpeak</th>\n",
       "      <th>ST_Slope</th>\n",
       "      <th>HeartDisease</th>\n",
       "    </tr>\n",
       "  </thead>\n",
       "  <tbody>\n",
       "    <tr>\n",
       "      <th>0</th>\n",
       "      <td>40</td>\n",
       "      <td>1</td>\n",
       "      <td>2</td>\n",
       "      <td>140</td>\n",
       "      <td>289</td>\n",
       "      <td>0</td>\n",
       "      <td>2</td>\n",
       "      <td>172</td>\n",
       "      <td>0</td>\n",
       "      <td>0.0</td>\n",
       "      <td>Up</td>\n",
       "      <td>0</td>\n",
       "    </tr>\n",
       "    <tr>\n",
       "      <th>1</th>\n",
       "      <td>49</td>\n",
       "      <td>0</td>\n",
       "      <td>3</td>\n",
       "      <td>160</td>\n",
       "      <td>180</td>\n",
       "      <td>0</td>\n",
       "      <td>2</td>\n",
       "      <td>156</td>\n",
       "      <td>0</td>\n",
       "      <td>1.0</td>\n",
       "      <td>Flat</td>\n",
       "      <td>1</td>\n",
       "    </tr>\n",
       "    <tr>\n",
       "      <th>2</th>\n",
       "      <td>37</td>\n",
       "      <td>1</td>\n",
       "      <td>2</td>\n",
       "      <td>130</td>\n",
       "      <td>283</td>\n",
       "      <td>0</td>\n",
       "      <td>3</td>\n",
       "      <td>98</td>\n",
       "      <td>0</td>\n",
       "      <td>0.0</td>\n",
       "      <td>Up</td>\n",
       "      <td>0</td>\n",
       "    </tr>\n",
       "    <tr>\n",
       "      <th>3</th>\n",
       "      <td>48</td>\n",
       "      <td>0</td>\n",
       "      <td>1</td>\n",
       "      <td>138</td>\n",
       "      <td>214</td>\n",
       "      <td>0</td>\n",
       "      <td>2</td>\n",
       "      <td>108</td>\n",
       "      <td>1</td>\n",
       "      <td>1.5</td>\n",
       "      <td>Flat</td>\n",
       "      <td>1</td>\n",
       "    </tr>\n",
       "    <tr>\n",
       "      <th>4</th>\n",
       "      <td>54</td>\n",
       "      <td>1</td>\n",
       "      <td>3</td>\n",
       "      <td>150</td>\n",
       "      <td>195</td>\n",
       "      <td>0</td>\n",
       "      <td>2</td>\n",
       "      <td>122</td>\n",
       "      <td>0</td>\n",
       "      <td>0.0</td>\n",
       "      <td>Up</td>\n",
       "      <td>0</td>\n",
       "    </tr>\n",
       "  </tbody>\n",
       "</table>\n",
       "</div>"
      ],
      "text/plain": [
       "   Age  Sex  ChestPainType  RestingBP  Cholesterol  FastingBS  RestingECG  \\\n",
       "0   40    1              2        140          289          0           2   \n",
       "1   49    0              3        160          180          0           2   \n",
       "2   37    1              2        130          283          0           3   \n",
       "3   48    0              1        138          214          0           2   \n",
       "4   54    1              3        150          195          0           2   \n",
       "\n",
       "   MaxHR  ExerciseAngina  Oldpeak ST_Slope  HeartDisease  \n",
       "0    172               0      0.0       Up             0  \n",
       "1    156               0      1.0     Flat             1  \n",
       "2     98               0      0.0       Up             0  \n",
       "3    108               1      1.5     Flat             1  \n",
       "4    122               0      0.0       Up             0  "
      ]
     },
     "execution_count": 46,
     "metadata": {},
     "output_type": "execute_result"
    }
   ],
   "source": [
    "df['ExerciseAngina'].replace({'N':0,'Y':1},inplace=True)\n",
    "df.head(5)"
   ]
  },
  {
   "cell_type": "markdown",
   "id": "8e7ba73f",
   "metadata": {
    "papermill": {
     "duration": 0.031603,
     "end_time": "2022-04-29T15:33:43.968727",
     "exception": false,
     "start_time": "2022-04-29T15:33:43.937124",
     "status": "completed"
    },
    "tags": []
   },
   "source": [
    "- Change a ST_Slope column values for number. Down= 1, Flat= 2, Up= 3."
   ]
  },
  {
   "cell_type": "code",
   "execution_count": 47,
   "id": "178be556",
   "metadata": {
    "execution": {
     "iopub.execute_input": "2022-04-29T15:33:44.035630Z",
     "iopub.status.busy": "2022-04-29T15:33:44.035029Z",
     "iopub.status.idle": "2022-04-29T15:33:44.047793Z",
     "shell.execute_reply": "2022-04-29T15:33:44.048290Z",
     "shell.execute_reply.started": "2022-04-29T14:53:35.980613Z"
    },
    "papermill": {
     "duration": 0.047879,
     "end_time": "2022-04-29T15:33:44.048460",
     "exception": false,
     "start_time": "2022-04-29T15:33:44.000581",
     "status": "completed"
    },
    "tags": []
   },
   "outputs": [
    {
     "data": {
      "text/html": [
       "<div>\n",
       "<style scoped>\n",
       "    .dataframe tbody tr th:only-of-type {\n",
       "        vertical-align: middle;\n",
       "    }\n",
       "\n",
       "    .dataframe tbody tr th {\n",
       "        vertical-align: top;\n",
       "    }\n",
       "\n",
       "    .dataframe thead th {\n",
       "        text-align: right;\n",
       "    }\n",
       "</style>\n",
       "<table border=\"1\" class=\"dataframe\">\n",
       "  <thead>\n",
       "    <tr style=\"text-align: right;\">\n",
       "      <th></th>\n",
       "      <th>Age</th>\n",
       "      <th>Sex</th>\n",
       "      <th>ChestPainType</th>\n",
       "      <th>RestingBP</th>\n",
       "      <th>Cholesterol</th>\n",
       "      <th>FastingBS</th>\n",
       "      <th>RestingECG</th>\n",
       "      <th>MaxHR</th>\n",
       "      <th>ExerciseAngina</th>\n",
       "      <th>Oldpeak</th>\n",
       "      <th>ST_Slope</th>\n",
       "      <th>HeartDisease</th>\n",
       "    </tr>\n",
       "  </thead>\n",
       "  <tbody>\n",
       "    <tr>\n",
       "      <th>0</th>\n",
       "      <td>40</td>\n",
       "      <td>1</td>\n",
       "      <td>2</td>\n",
       "      <td>140</td>\n",
       "      <td>289</td>\n",
       "      <td>0</td>\n",
       "      <td>2</td>\n",
       "      <td>172</td>\n",
       "      <td>0</td>\n",
       "      <td>0.0</td>\n",
       "      <td>3</td>\n",
       "      <td>0</td>\n",
       "    </tr>\n",
       "    <tr>\n",
       "      <th>1</th>\n",
       "      <td>49</td>\n",
       "      <td>0</td>\n",
       "      <td>3</td>\n",
       "      <td>160</td>\n",
       "      <td>180</td>\n",
       "      <td>0</td>\n",
       "      <td>2</td>\n",
       "      <td>156</td>\n",
       "      <td>0</td>\n",
       "      <td>1.0</td>\n",
       "      <td>2</td>\n",
       "      <td>1</td>\n",
       "    </tr>\n",
       "    <tr>\n",
       "      <th>2</th>\n",
       "      <td>37</td>\n",
       "      <td>1</td>\n",
       "      <td>2</td>\n",
       "      <td>130</td>\n",
       "      <td>283</td>\n",
       "      <td>0</td>\n",
       "      <td>3</td>\n",
       "      <td>98</td>\n",
       "      <td>0</td>\n",
       "      <td>0.0</td>\n",
       "      <td>3</td>\n",
       "      <td>0</td>\n",
       "    </tr>\n",
       "    <tr>\n",
       "      <th>3</th>\n",
       "      <td>48</td>\n",
       "      <td>0</td>\n",
       "      <td>1</td>\n",
       "      <td>138</td>\n",
       "      <td>214</td>\n",
       "      <td>0</td>\n",
       "      <td>2</td>\n",
       "      <td>108</td>\n",
       "      <td>1</td>\n",
       "      <td>1.5</td>\n",
       "      <td>2</td>\n",
       "      <td>1</td>\n",
       "    </tr>\n",
       "    <tr>\n",
       "      <th>4</th>\n",
       "      <td>54</td>\n",
       "      <td>1</td>\n",
       "      <td>3</td>\n",
       "      <td>150</td>\n",
       "      <td>195</td>\n",
       "      <td>0</td>\n",
       "      <td>2</td>\n",
       "      <td>122</td>\n",
       "      <td>0</td>\n",
       "      <td>0.0</td>\n",
       "      <td>3</td>\n",
       "      <td>0</td>\n",
       "    </tr>\n",
       "  </tbody>\n",
       "</table>\n",
       "</div>"
      ],
      "text/plain": [
       "   Age  Sex  ChestPainType  RestingBP  Cholesterol  FastingBS  RestingECG  \\\n",
       "0   40    1              2        140          289          0           2   \n",
       "1   49    0              3        160          180          0           2   \n",
       "2   37    1              2        130          283          0           3   \n",
       "3   48    0              1        138          214          0           2   \n",
       "4   54    1              3        150          195          0           2   \n",
       "\n",
       "   MaxHR  ExerciseAngina  Oldpeak  ST_Slope  HeartDisease  \n",
       "0    172               0      0.0         3             0  \n",
       "1    156               0      1.0         2             1  \n",
       "2     98               0      0.0         3             0  \n",
       "3    108               1      1.5         2             1  \n",
       "4    122               0      0.0         3             0  "
      ]
     },
     "execution_count": 47,
     "metadata": {},
     "output_type": "execute_result"
    }
   ],
   "source": [
    "df['ST_Slope'].replace({'Down':1,'Flat':2, 'Up':3},inplace=True)\n",
    "df.head(5)"
   ]
  },
  {
   "cell_type": "code",
   "execution_count": 48,
   "id": "e4025857",
   "metadata": {
    "execution": {
     "iopub.execute_input": "2022-04-29T15:33:44.116470Z",
     "iopub.status.busy": "2022-04-29T15:33:44.115850Z",
     "iopub.status.idle": "2022-04-29T15:33:44.123535Z",
     "shell.execute_reply": "2022-04-29T15:33:44.124069Z",
     "shell.execute_reply.started": "2022-04-29T14:54:56.339111Z"
    },
    "papermill": {
     "duration": 0.043,
     "end_time": "2022-04-29T15:33:44.124239",
     "exception": false,
     "start_time": "2022-04-29T15:33:44.081239",
     "status": "completed"
    },
    "tags": []
   },
   "outputs": [
    {
     "data": {
      "text/plain": [
       "Age               918\n",
       "Sex               918\n",
       "ChestPainType     918\n",
       "RestingBP         918\n",
       "Cholesterol       918\n",
       "FastingBS         918\n",
       "RestingECG        918\n",
       "MaxHR             918\n",
       "ExerciseAngina    918\n",
       "Oldpeak           918\n",
       "ST_Slope          918\n",
       "HeartDisease      918\n",
       "dtype: int64"
      ]
     },
     "execution_count": 48,
     "metadata": {},
     "output_type": "execute_result"
    }
   ],
   "source": [
    "df.notnull().sum()"
   ]
  },
  {
   "cell_type": "markdown",
   "id": "adcdf86c",
   "metadata": {
    "papermill": {
     "duration": 0.033593,
     "end_time": "2022-04-29T15:33:44.190863",
     "exception": false,
     "start_time": "2022-04-29T15:33:44.157270",
     "status": "completed"
    },
    "tags": []
   },
   "source": [
    "<a id='2'></a><br>\n",
    "# Detect Outliers"
   ]
  },
  {
   "cell_type": "code",
   "execution_count": 49,
   "id": "d85ac1c7",
   "metadata": {
    "execution": {
     "iopub.execute_input": "2022-04-29T15:33:44.258318Z",
     "iopub.status.busy": "2022-04-29T15:33:44.257700Z",
     "iopub.status.idle": "2022-04-29T15:33:44.587904Z",
     "shell.execute_reply": "2022-04-29T15:33:44.587405Z",
     "shell.execute_reply.started": "2022-04-29T14:56:22.538971Z"
    },
    "papermill": {
     "duration": 0.364883,
     "end_time": "2022-04-29T15:33:44.588078",
     "exception": false,
     "start_time": "2022-04-29T15:33:44.223195",
     "status": "completed"
    },
    "tags": []
   },
   "outputs": [],
   "source": [
    "from sklearn.neighbors import LocalOutlierFactor\n",
    "clf = LocalOutlierFactor()\n",
    "y_pred = clf.fit_predict(df)"
   ]
  },
  {
   "cell_type": "code",
   "execution_count": 50,
   "id": "5c20e10b",
   "metadata": {
    "execution": {
     "iopub.execute_input": "2022-04-29T15:33:44.662729Z",
     "iopub.status.busy": "2022-04-29T15:33:44.662054Z",
     "iopub.status.idle": "2022-04-29T15:33:44.666372Z",
     "shell.execute_reply": "2022-04-29T15:33:44.666832Z",
     "shell.execute_reply.started": "2022-04-29T14:56:37.752406Z"
    },
    "papermill": {
     "duration": 0.044653,
     "end_time": "2022-04-29T15:33:44.667009",
     "exception": false,
     "start_time": "2022-04-29T15:33:44.622356",
     "status": "completed"
    },
    "tags": []
   },
   "outputs": [],
   "source": [
    "x_score = clf.negative_outlier_factor_\n",
    "outlier_score = pd.DataFrame()\n",
    "outlier_score[\"score\"] = x_score\n",
    "\n",
    "#threshold\n",
    "threshold2 = -1.5\n",
    "filtre2 = outlier_score[\"score\"] < threshold2\n",
    "outlier_index = outlier_score[filtre2].index.tolist()"
   ]
  },
  {
   "cell_type": "code",
   "execution_count": 51,
   "id": "c03bcfa9",
   "metadata": {
    "execution": {
     "iopub.execute_input": "2022-04-29T15:33:44.735143Z",
     "iopub.status.busy": "2022-04-29T15:33:44.734538Z",
     "iopub.status.idle": "2022-04-29T15:33:44.739624Z",
     "shell.execute_reply": "2022-04-29T15:33:44.739021Z",
     "shell.execute_reply.started": "2022-04-29T14:57:01.437414Z"
    },
    "papermill": {
     "duration": 0.040103,
     "end_time": "2022-04-29T15:33:44.739759",
     "exception": false,
     "start_time": "2022-04-29T15:33:44.699656",
     "status": "completed"
    },
    "tags": []
   },
   "outputs": [
    {
     "data": {
      "text/plain": [
       "21"
      ]
     },
     "execution_count": 51,
     "metadata": {},
     "output_type": "execute_result"
    }
   ],
   "source": [
    "len(outlier_index)"
   ]
  },
  {
   "cell_type": "code",
   "execution_count": 52,
   "id": "b7a21d73",
   "metadata": {
    "execution": {
     "iopub.execute_input": "2022-04-29T15:33:44.811039Z",
     "iopub.status.busy": "2022-04-29T15:33:44.810327Z",
     "iopub.status.idle": "2022-04-29T15:33:44.813710Z",
     "shell.execute_reply": "2022-04-29T15:33:44.813152Z",
     "shell.execute_reply.started": "2022-04-29T14:57:35.620863Z"
    },
    "papermill": {
     "duration": 0.04119,
     "end_time": "2022-04-29T15:33:44.813853",
     "exception": false,
     "start_time": "2022-04-29T15:33:44.772663",
     "status": "completed"
    },
    "tags": []
   },
   "outputs": [],
   "source": [
    "df.drop(outlier_index, inplace=True)"
   ]
  },
  {
   "cell_type": "code",
   "execution_count": 53,
   "id": "cd6380aa",
   "metadata": {
    "execution": {
     "iopub.execute_input": "2022-04-29T15:33:44.902516Z",
     "iopub.status.busy": "2022-04-29T15:33:44.901843Z",
     "iopub.status.idle": "2022-04-29T15:33:45.847023Z",
     "shell.execute_reply": "2022-04-29T15:33:45.846548Z",
     "shell.execute_reply.started": "2022-04-29T14:58:03.111326Z"
    },
    "papermill": {
     "duration": 1.000274,
     "end_time": "2022-04-29T15:33:45.847167",
     "exception": false,
     "start_time": "2022-04-29T15:33:44.846893",
     "status": "completed"
    },
    "tags": []
   },
   "outputs": [
    {
     "data": {
      "image/png": "[encoded data removed]",
      "text/plain": [
       "<Figure size 864x576 with 2 Axes>"
      ]
     },
     "metadata": {
      "needs_background": "light"
     },
     "output_type": "display_data"
    }
   ],
   "source": [
    "import seaborn as sns\n",
    "f,ax = plt.subplots(figsize=(12,8))\n",
    "sns.heatmap(df.corr(), cmap=\"PuBu\", annot=True, linewidths=0.5, fmt= '.2f',ax=ax)\n",
    "plt.show()"
   ]
  },
  {
   "cell_type": "markdown",
   "id": "0c4fb6da",
   "metadata": {
    "papermill": {
     "duration": 0.035599,
     "end_time": "2022-04-29T15:33:45.918544",
     "exception": false,
     "start_time": "2022-04-29T15:33:45.882945",
     "status": "completed"
    },
    "tags": []
   },
   "source": [
    "<a id='4'></a><br>\n",
    "# Dealing with Imbalanced Data"
   ]
  },
  {
   "cell_type": "code",
   "execution_count": 54,
   "id": "b7928813",
   "metadata": {
    "execution": {
     "iopub.execute_input": "2022-04-29T15:33:46.261613Z",
     "iopub.status.busy": "2022-04-29T15:33:46.261003Z",
     "iopub.status.idle": "2022-04-29T15:33:46.265832Z",
     "shell.execute_reply": "2022-04-29T15:33:46.266328Z",
     "shell.execute_reply.started": "2022-04-29T15:00:35.978133Z"
    },
    "papermill": {
     "duration": 0.044113,
     "end_time": "2022-04-29T15:33:46.266497",
     "exception": false,
     "start_time": "2022-04-29T15:33:46.222384",
     "status": "completed"
    },
    "tags": []
   },
   "outputs": [],
   "source": [
    "x = df.drop(['HeartDisease'], axis = 1)\n",
    "y = df.loc[:,'HeartDisease'].values"
   ]
  },
  {
   "cell_type": "code",
   "execution_count": 55,
   "id": "4f6b38fb",
   "metadata": {
    "execution": {
     "iopub.execute_input": "2022-04-29T15:33:46.341579Z",
     "iopub.status.busy": "2022-04-29T15:33:46.340819Z",
     "iopub.status.idle": "2022-04-29T15:33:46.493646Z",
     "shell.execute_reply": "2022-04-29T15:33:46.494193Z",
     "shell.execute_reply.started": "2022-04-29T15:01:44.751230Z"
    },
    "papermill": {
     "duration": 0.19187,
     "end_time": "2022-04-29T15:33:46.494358",
     "exception": false,
     "start_time": "2022-04-29T15:33:46.302488",
     "status": "completed"
    },
    "tags": []
   },
   "outputs": [
    {
     "name": "stderr",
     "output_type": "stream",
     "text": [
      "C:\\Users\\Welcome\\anaconda3\\lib\\site-packages\\seaborn\\_decorators.py:36: FutureWarning: Pass the following variable as a keyword arg: x. From version 0.12, the only valid positional argument will be `data`, and passing other arguments without an explicit keyword will result in an error or misinterpretation.\n",
      "  warnings.warn(\n"
     ]
    },
    {
     "data": {
      "image/png": "[encoded data removed]",
      "text/plain": [
       "<Figure size 432x288 with 1 Axes>"
      ]
     },
     "metadata": {
      "needs_background": "light"
     },
     "output_type": "display_data"
    }
   ],
   "source": [
    "sns.countplot(df[\"HeartDisease\"], palette=\"Set3\")\n",
    "plt.title(\"HeartDisease \",fontsize=10)\n",
    "plt.show()"
   ]
  },
  {
   "cell_type": "code",
   "execution_count": 57,
   "id": "788394c4",
   "metadata": {
    "execution": {
     "iopub.execute_input": "2022-04-29T15:33:46.661888Z",
     "iopub.status.busy": "2022-04-29T15:33:46.661298Z",
     "iopub.status.idle": "2022-04-29T15:33:46.805551Z",
     "shell.execute_reply": "2022-04-29T15:33:46.806228Z",
     "shell.execute_reply.started": "2022-04-29T15:03:36.192666Z"
    },
    "papermill": {
     "duration": 0.184009,
     "end_time": "2022-04-29T15:33:46.806411",
     "exception": false,
     "start_time": "2022-04-29T15:33:46.622402",
     "status": "completed"
    },
    "tags": []
   },
   "outputs": [
    {
     "name": "stderr",
     "output_type": "stream",
     "text": [
      "C:\\Users\\Welcome\\anaconda3\\lib\\site-packages\\seaborn\\_decorators.py:36: FutureWarning: Pass the following variable as a keyword arg: x. From version 0.12, the only valid positional argument will be `data`, and passing other arguments without an explicit keyword will result in an error or misinterpretation.\n",
      "  warnings.warn(\n"
     ]
    },
    {
     "data": {
      "image/png": "[encoded data removed]",
      "text/plain": [
       "<Figure size 432x288 with 1 Axes>"
      ]
     },
     "metadata": {
      "needs_background": "light"
     },
     "output_type": "display_data"
    }
   ],
   "source": [
    "sns.countplot(y, palette='Set3')\n",
    "plt.title(\"HeartDisease \",fontsize=10)\n",
    "plt.show()"
   ]
  },
  {
   "cell_type": "markdown",
   "id": "b7295bd3",
   "metadata": {
    "papermill": {
     "duration": 0.038124,
     "end_time": "2022-04-29T15:33:46.881809",
     "exception": false,
     "start_time": "2022-04-29T15:33:46.843685",
     "status": "completed"
    },
    "tags": []
   },
   "source": [
    "<a id='5'></a><br>\n",
    "# Data Scaling"
   ]
  },
  {
   "cell_type": "code",
   "execution_count": 58,
   "id": "3af2a423",
   "metadata": {
    "execution": {
     "iopub.execute_input": "2022-04-29T15:33:46.963541Z",
     "iopub.status.busy": "2022-04-29T15:33:46.962902Z",
     "iopub.status.idle": "2022-04-29T15:33:46.970670Z",
     "shell.execute_reply": "2022-04-29T15:33:46.971137Z",
     "shell.execute_reply.started": "2022-04-29T15:04:56.358216Z"
    },
    "papermill": {
     "duration": 0.052234,
     "end_time": "2022-04-29T15:33:46.971325",
     "exception": false,
     "start_time": "2022-04-29T15:33:46.919091",
     "status": "completed"
    },
    "tags": []
   },
   "outputs": [
    {
     "data": {
      "text/plain": [
       "array([[-1.43462298,  0.51840251,  0.22211945,  0.44660988,  0.87238586,\n",
       "        -0.55116156,  0.01577419,  1.38948534, -0.82448486, -0.82934459,\n",
       "         1.0421152 ],\n",
       "       [-0.48116029, -1.92900301,  1.26526683,  1.60796386, -0.1653641 ,\n",
       "        -0.55116156,  0.01577419,  0.75120177, -0.82448486,  0.10558327,\n",
       "        -0.60943486],\n",
       "       [-1.75244388,  0.51840251,  0.22211945, -0.13406712,  0.81526201,\n",
       "        -0.55116156,  1.58793488, -1.56257618, -0.82448486, -0.82934459,\n",
       "         1.0421152 ],\n",
       "       [-0.58710059, -1.92900301, -0.82102793,  0.33047448,  0.15833772,\n",
       "        -0.55116156,  0.01577419, -1.16364894,  1.21287855,  0.5730472 ,\n",
       "        -0.60943486],\n",
       "       [ 0.04854121,  0.51840251,  1.26526683,  1.02728687, -0.02255447,\n",
       "        -0.55116156,  0.01577419, -0.60515082, -0.82448486, -0.82934459,\n",
       "         1.0421152 ]])"
      ]
     },
     "execution_count": 58,
     "metadata": {},
     "output_type": "execute_result"
    }
   ],
   "source": [
    "from sklearn import preprocessing\n",
    "x= preprocessing.StandardScaler().fit(x).transform(x)\n",
    "x[0:5]"
   ]
  },
  {
   "cell_type": "markdown",
   "id": "90b06471",
   "metadata": {
    "papermill": {
     "duration": 0.037352,
     "end_time": "2022-04-29T15:33:47.047729",
     "exception": false,
     "start_time": "2022-04-29T15:33:47.010377",
     "status": "completed"
    },
    "tags": []
   },
   "source": [
    "<a id='7'></a><br>\n",
    "# Train / Test Split"
   ]
  },
  {
   "cell_type": "code",
   "execution_count": 59,
   "id": "5b46f587",
   "metadata": {
    "execution": {
     "iopub.execute_input": "2022-04-29T15:33:47.130247Z",
     "iopub.status.busy": "2022-04-29T15:33:47.129594Z",
     "iopub.status.idle": "2022-04-29T15:33:47.135180Z",
     "shell.execute_reply": "2022-04-29T15:33:47.134662Z",
     "shell.execute_reply.started": "2022-04-29T15:09:55.189801Z"
    },
    "papermill": {
     "duration": 0.049145,
     "end_time": "2022-04-29T15:33:47.135370",
     "exception": false,
     "start_time": "2022-04-29T15:33:47.086225",
     "status": "completed"
    },
    "tags": []
   },
   "outputs": [
    {
     "name": "stdout",
     "output_type": "stream",
     "text": [
      "Train set: (717, 11) (717,)\n",
      "Test set: (180, 11) (180,)\n"
     ]
    }
   ],
   "source": [
    "from sklearn.model_selection import train_test_split\n",
    "X_train, X_test, y_train, y_test = train_test_split(x, y, test_size=0.2, random_state=42)\n",
    "print ('Train set:', X_train.shape,  y_train.shape)\n",
    "print ('Test set:', X_test.shape,  y_test.shape)"
   ]
  },
  {
   "cell_type": "code",
   "execution_count": 64,
   "id": "8e7daf40",
   "metadata": {},
   "outputs": [
    {
     "name": "stdout",
     "output_type": "stream",
     "text": [
      "Accuracy is 0.8777777777777778\n"
     ]
    }
   ],
   "source": [
    "r_forest = RandomForestClassifier()\n",
    "r_forest.fit(X_train,y_train)\n",
    "predicted = r_forest.predict(X_test)\n",
    "from sklearn.metrics import accuracy_score\n",
    "print('Accuracy is', accuracy_score(predicted,y_test))\n",
    "\n",
    "# print('Accuracy : %.3f' % (rf_score_))"
   ]
  },
  {
   "cell_type": "code",
   "execution_count": null,
   "id": "a7529f34",
   "metadata": {},
   "outputs": [],
   "source": []
  }
 ],
 "metadata": {
  "kernelspec": {
   "display_name": "Python 3 (ipykernel)",
   "language": "python",
   "name": "python3"
  },
  "language_info": {
   "codemirror_mode": {
    "name": "ipython",
    "version": 3
   },
   "file_extension": ".py",
   "mimetype": "text/x-python",
   "name": "python",
   "nbconvert_exporter": "python",
   "pygments_lexer": "ipython3",
   "version": "3.9.7"
  },
  "papermill": {
   "default_parameters": {},
   "duration": 18.204928,
   "end_time": "2022-04-29T15:33:50.080854",
   "environment_variables": {},
   "exception": null,
   "input_path": "__notebook__.ipynb",
   "output_path": "__notebook__.ipynb",
   "parameters": {},
   "start_time": "2022-04-29T15:33:31.875926",
   "version": "2.3.3"
  }
 },
 "nbformat": 4,
 "nbformat_minor": 5
}
